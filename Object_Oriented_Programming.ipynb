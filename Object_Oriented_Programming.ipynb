{
 "cells": [
  {
   "cell_type": "markdown",
   "metadata": {},
   "source": [
    "# Class and Objects"
   ]
  },
  {
   "cell_type": "code",
   "execution_count": 1,
   "metadata": {},
   "outputs": [],
   "source": [
    "class computer:\n",
    "    \n",
    "    def config(self):\n",
    "        print('i3 , 8GB , 1TB')"
   ]
  },
  {
   "cell_type": "code",
   "execution_count": 2,
   "metadata": {},
   "outputs": [
    {
     "name": "stdout",
     "output_type": "stream",
     "text": [
      "<class 'str'>\n"
     ]
    }
   ],
   "source": [
    "a = '8'\n",
    "print(type(a))"
   ]
  },
  {
   "cell_type": "code",
   "execution_count": 10,
   "metadata": {},
   "outputs": [
    {
     "name": "stdout",
     "output_type": "stream",
     "text": [
      "<class '__main__.computer'>\n"
     ]
    }
   ],
   "source": [
    "com1 = computer()\n",
    "com2 = computer()\n",
    "print(type(com1))"
   ]
  },
  {
   "cell_type": "code",
   "execution_count": 11,
   "metadata": {},
   "outputs": [
    {
     "name": "stdout",
     "output_type": "stream",
     "text": [
      "i3 , 8GB , 1TB\n",
      "i3 , 8GB , 1TB\n"
     ]
    }
   ],
   "source": [
    "computer.config(com1)\n",
    "computer.config(com2)"
   ]
  },
  {
   "cell_type": "code",
   "execution_count": 12,
   "metadata": {},
   "outputs": [
    {
     "name": "stdout",
     "output_type": "stream",
     "text": [
      "i3 , 8GB , 1TB\n",
      "i3 , 8GB , 1TB\n"
     ]
    }
   ],
   "source": [
    "### But it will still work for following code\n",
    "com1.config()\n",
    "com2.config()"
   ]
  },
  {
   "cell_type": "code",
   "execution_count": null,
   "metadata": {},
   "outputs": [],
   "source": [
    "a.bit_length()"
   ]
  },
  {
   "cell_type": "code",
   "execution_count": null,
   "metadata": {},
   "outputs": [],
   "source": []
  },
  {
   "cell_type": "code",
   "execution_count": 24,
   "metadata": {},
   "outputs": [],
   "source": [
    "class computer:\n",
    "    \n",
    "    def __init__(self , cpu , ram):\n",
    "        self.ram = ram\n",
    "        self.cpu = cpu\n",
    "       \n",
    "    \n",
    "    def config(self):\n",
    "        print('config is ', self.cpu , self.ram)"
   ]
  },
  {
   "cell_type": "code",
   "execution_count": 26,
   "metadata": {
    "scrolled": false
   },
   "outputs": [
    {
     "name": "stdout",
     "output_type": "stream",
     "text": [
      "<class '__main__.computer'>\n"
     ]
    }
   ],
   "source": [
    "com1 = computer( 'i5' , 16)\n",
    "com2 = computer('xyz' , 18)\n",
    "print(type(com1))"
   ]
  },
  {
   "cell_type": "code",
   "execution_count": 27,
   "metadata": {
    "scrolled": true
   },
   "outputs": [
    {
     "name": "stdout",
     "output_type": "stream",
     "text": [
      "config is  i5 16\n",
      "config is  xyz 18\n"
     ]
    }
   ],
   "source": [
    "computer.config(com1)\n",
    "computer.config(com2)"
   ]
  },
  {
   "cell_type": "code",
   "execution_count": 28,
   "metadata": {},
   "outputs": [
    {
     "name": "stdout",
     "output_type": "stream",
     "text": [
      "config is  i5 16\n",
      "config is  xyz 18\n"
     ]
    }
   ],
   "source": [
    "### But it will still work for following code\n",
    "com1.config()\n",
    "com2.config()"
   ]
  },
  {
   "cell_type": "markdown",
   "metadata": {},
   "source": [
    "  ### Every time you create new object it will take new spaces"
   ]
  },
  {
   "cell_type": "code",
   "execution_count": 1,
   "metadata": {},
   "outputs": [
    {
     "name": "stdout",
     "output_type": "stream",
     "text": [
      "3060775735688\n",
      "3060775735752\n"
     ]
    }
   ],
   "source": [
    "#for example\n",
    "class computer():\n",
    "    pass\n",
    "\n",
    "\n",
    "c1 = computer()\n",
    "c2 = computer()\n",
    "\n",
    "print(id(c1))\n",
    "print(id(c2))"
   ]
  },
  {
   "cell_type": "code",
   "execution_count": null,
   "metadata": {},
   "outputs": [],
   "source": []
  },
  {
   "cell_type": "code",
   "execution_count": 10,
   "metadata": {},
   "outputs": [
    {
     "name": "stdout",
     "output_type": "stream",
     "text": [
      "they are same \n",
      "shreyansh\n",
      "shreyansh\n",
      "22\n"
     ]
    }
   ],
   "source": [
    "class computer:\n",
    "    def __init__(self):\n",
    "        self.name = 'shreyansh'\n",
    "        self.age = 22 \n",
    "        \n",
    "    def update(self):\n",
    "        self.age = 30\n",
    "        \n",
    "    def compare(self , other):\n",
    "        if self.age == other.age:\n",
    "            return True\n",
    "        else:\n",
    "            return False\n",
    "        \n",
    "c1 = computer()\n",
    "c2 = computer()\n",
    "\n",
    "if c1.compare(c2):\n",
    "    print(\"they are same \")\n",
    "else:\n",
    "    print(\"different\")\n",
    "    \n",
    "print(c1.name)\n",
    "print(c2.name)\n",
    "print(c1.age)"
   ]
  },
  {
   "cell_type": "code",
   "execution_count": 9,
   "metadata": {},
   "outputs": [
    {
     "name": "stdout",
     "output_type": "stream",
     "text": [
      "different\n"
     ]
    }
   ],
   "source": [
    "### now let's change their age\n",
    "c1.age = 25 \n",
    "\n",
    "if c1.compare(c2):\n",
    "    print(\"they are same \")\n",
    "else:\n",
    "    print(\"different\")"
   ]
  },
  {
   "cell_type": "code",
   "execution_count": null,
   "metadata": {},
   "outputs": [],
   "source": []
  },
  {
   "cell_type": "code",
   "execution_count": 15,
   "metadata": {},
   "outputs": [
    {
     "name": "stdout",
     "output_type": "stream",
     "text": [
      "BMW 8 4\n",
      "BMW 10 4\n"
     ]
    }
   ],
   "source": [
    "class car:\n",
    "    \n",
    "    wheels = 4          ### wheels is a class variable\n",
    "    def __init__(self):\n",
    "        self.mil = 10\n",
    "        self.com = 'BMW'\n",
    "c1 = car()    ## instance variable\n",
    "c2 = car()    ## instance variable\n",
    "\n",
    "c1.mil = 8\n",
    "\n",
    "print(c1.com , c1.mil , c1.wheels)\n",
    "print(c2.com , c2.mil , c2.wheels)"
   ]
  },
  {
   "cell_type": "markdown",
   "metadata": {},
   "source": [
    "## Types of methods in python "
   ]
  },
  {
   "cell_type": "code",
   "execution_count": 26,
   "metadata": {},
   "outputs": [],
   "source": [
    "class students:\n",
    "    school = 'ST Xaviers'\n",
    "    \n",
    "    def __init__(self , m1 , m2 ,m3):\n",
    "        self.m1 = m1\n",
    "        self.m2 = m2\n",
    "        self.m3 = m3\n",
    "        \n",
    "    def avg(self):\n",
    "        return (self.m1 + self.m2 + self.m3)/3\n",
    "    \n",
    "    \n",
    "    def get_m1(self):\n",
    "        return self.m1\n",
    "    \n",
    "    def set_m1(self , value):\n",
    "        return self.m1 == value\n",
    "    \n",
    "    def info(cls):\n",
    "        return cls.school\n",
    "    \n",
    "s1 = students(34 , 67, 72)\n",
    "s2 = students(55 , 58, 95)\n",
    "        \n",
    "    "
   ]
  },
  {
   "cell_type": "code",
   "execution_count": 27,
   "metadata": {},
   "outputs": [
    {
     "name": "stdout",
     "output_type": "stream",
     "text": [
      "57.666666666666664\n",
      "69.33333333333333\n",
      "ST Xaviers\n"
     ]
    }
   ],
   "source": [
    "print(s1.avg())\n",
    "print(s2.avg())\n",
    "print(s1.info())"
   ]
  },
  {
   "cell_type": "markdown",
   "metadata": {},
   "source": [
    "### Accessors is used to fetch values from instances \n",
    "### mutator is used to modify values from instances"
   ]
  },
  {
   "cell_type": "code",
   "execution_count": 33,
   "metadata": {},
   "outputs": [
    {
     "name": "stdout",
     "output_type": "stream",
     "text": [
      "This is a abc class in abc module \n",
      "None\n",
      "ST Xaviers\n",
      "This is a abc class in abc module \n"
     ]
    }
   ],
   "source": [
    "class students:\n",
    "    school = 'ST Xaviers'\n",
    "    \n",
    "    def __init__(self , m1 , m2 ,m3):\n",
    "        self.m1 = m1\n",
    "        self.m2 = m2\n",
    "        self.m3 = m3\n",
    "        \n",
    "    def avg(self):\n",
    "        return (self.m1 + self.m2 + self.m3)/3\n",
    "    \n",
    "    \n",
    "    @classmethod\n",
    "    def getschool(cls):\n",
    "        return cls.school\n",
    "    \n",
    "    @staticmethod\n",
    "    def info():\n",
    "        print('This is a abc class in abc module ')\n",
    "    \n",
    "s1 = students(34 , 67, 72)\n",
    "s2 = students(55 , 58, 95)\n",
    "    \n",
    "    \n",
    "    \n",
    "print(s1.info() )\n",
    "print(students.getschool())\n",
    "students.info()"
   ]
  },
  {
   "cell_type": "code",
   "execution_count": null,
   "metadata": {},
   "outputs": [],
   "source": []
  },
  {
   "cell_type": "markdown",
   "metadata": {},
   "source": [
    "## Inner class in a python"
   ]
  },
  {
   "cell_type": "code",
   "execution_count": 44,
   "metadata": {},
   "outputs": [
    {
     "name": "stdout",
     "output_type": "stream",
     "text": [
      "rakesh 2\n",
      "hp i5 8\n",
      "\n",
      "\n",
      "patnayak 3\n",
      "hp i5 8\n"
     ]
    }
   ],
   "source": [
    "class student:\n",
    "    def __init__(self , name , rollno):\n",
    "        self.name = name\n",
    "        self.rollno = rollno\n",
    "        self.lap = self.laptop()\n",
    "        \n",
    "    def show(self):\n",
    "        print(self.name , self.rollno)\n",
    "        self.lap.show()\n",
    "        \n",
    "        \n",
    "    class laptop:\n",
    "        \n",
    "        def __init__(self):\n",
    "            self.brand = 'hp'\n",
    "            self.cpu = 'i5'\n",
    "            self.ram = 8\n",
    "            \n",
    "            \n",
    "        def show(self):\n",
    "            print(self.brand , self.cpu , self.ram)\n",
    "        \n",
    "s1 = student('rakesh' , 2)\n",
    "s2 = student('patnayak' ,3)\n",
    "\n",
    "\n",
    "# lap1 = s1.lap\n",
    "# lap2 = s2.lap\n",
    "\n",
    "\n",
    "s1.show()\n",
    "print('\\n')\n",
    "s2.show()"
   ]
  },
  {
   "cell_type": "markdown",
   "metadata": {},
   "source": [
    "# Inheritence in python"
   ]
  },
  {
   "cell_type": "code",
   "execution_count": 49,
   "metadata": {
    "scrolled": true
   },
   "outputs": [
    {
     "name": "stdout",
     "output_type": "stream",
     "text": [
      "feature 1 working\n",
      "feature 2 working\n",
      "feature 3 working\n",
      "feature 4 working\n"
     ]
    }
   ],
   "source": [
    "class A:\n",
    "    def feature1(self):\n",
    "        print('feature 1 working')\n",
    "        \n",
    "    def feature2(self):\n",
    "        print('feature 2 working')\n",
    "        \n",
    "class B:\n",
    "    def feature3(self):\n",
    "        print('feature 3 working')\n",
    "        \n",
    "    def feature4(self):\n",
    "        print('feature 4 working')\n",
    "       \n",
    "        \n",
    "a1 = A()\n",
    "\n",
    "a1.feature1()\n",
    "a1.feature2()\n",
    "\n",
    "\n",
    "b1 = B()\n",
    "\n",
    "b1.feature3()\n",
    "b1.feature4()"
   ]
  },
  {
   "cell_type": "code",
   "execution_count": 54,
   "metadata": {},
   "outputs": [
    {
     "name": "stdout",
     "output_type": "stream",
     "text": [
      "feature 1 working\n",
      "feature 2 working\n",
      "feature 3 working\n",
      "feature 4 working\n",
      "\n",
      "\n",
      "here B is sub class and A is super class or parent  class\n",
      "this is called single level inheritence\n"
     ]
    }
   ],
   "source": [
    "class A:\n",
    "    def feature1(self):\n",
    "        print('feature 1 working')\n",
    "        \n",
    "    def feature2(self):\n",
    "        print('feature 2 working')\n",
    "        \n",
    "class B(A):   ## B is inheriting  features of A\n",
    "    def feature3(self):\n",
    "        print('feature 3 working')\n",
    "        \n",
    "    def feature4(self):\n",
    "        print('feature 4 working')\n",
    "       \n",
    "        \n",
    "a1 = A()\n",
    "\n",
    "# a1.feature1()\n",
    "# a1.feature2()\n",
    "\n",
    "\n",
    "b1 = B()\n",
    "\n",
    "b1.feature1()   ### you can see the change in the above and this code\n",
    "b1.feature2()\n",
    "b1.feature3()\n",
    "b1.feature4()\n",
    "print('\\n')\n",
    "print('here B is sub class and A is super class or parent  class')\n",
    "print(\"this is called single level inheritence\")"
   ]
  },
  {
   "cell_type": "markdown",
   "metadata": {},
   "source": [
    "# Multilevel Inheritence"
   ]
  },
  {
   "cell_type": "code",
   "execution_count": 59,
   "metadata": {},
   "outputs": [
    {
     "name": "stdout",
     "output_type": "stream",
     "text": [
      "feature 1 working\n",
      "feature 2 working\n",
      "feature 3 working\n",
      "feature 4 working\n",
      "feature 5 working\n",
      "\n",
      "\n",
      "C is grand parent , B is parent and A is child\n"
     ]
    }
   ],
   "source": [
    "class A:\n",
    "    def feature1(self):\n",
    "        print('feature 1 working')\n",
    "        \n",
    "    def feature2(self):\n",
    "        print('feature 2 working')\n",
    "        \n",
    "class B(A):   ## B is inheriting  features of A\n",
    "    def feature3(self):\n",
    "        print('feature 3 working')\n",
    "        \n",
    "    def feature4(self):\n",
    "        print('feature 4 working')\n",
    "        \n",
    "        \n",
    "class C(B):\n",
    "    def feature5(self):\n",
    "        print('feature 5 working')\n",
    "       \n",
    "        \n",
    "a1 = A()\n",
    "\n",
    "# a1.feature1()\n",
    "# a1.feature2()\n",
    "\n",
    "\n",
    "b1 = B()\n",
    "c1 = C()\n",
    "\n",
    "c1.feature1()   ### you can see the change in the above and this code\n",
    "c1.feature2()\n",
    "c1.feature3()\n",
    "c1.feature4()\n",
    "c1.feature5()\n",
    "print('\\n')\n",
    "print('C is grand parent , B is parent and A is child')\n"
   ]
  },
  {
   "cell_type": "markdown",
   "metadata": {},
   "source": [
    "# Multiple inheritence"
   ]
  },
  {
   "cell_type": "code",
   "execution_count": 61,
   "metadata": {},
   "outputs": [
    {
     "name": "stdout",
     "output_type": "stream",
     "text": [
      "feature 1 working\n",
      "feature 2 working\n",
      "feature 3 working\n",
      "feature 4 working\n",
      "feature 5 working\n",
      "\n",
      "\n",
      "C is a parent having 2 kids\n"
     ]
    }
   ],
   "source": [
    "class A:\n",
    "    def feature1(self):\n",
    "        print('feature 1 working')\n",
    "        \n",
    "    def feature2(self):\n",
    "        print('feature 2 working')\n",
    "        \n",
    "class B:   ## B is inheriting  features of A\n",
    "    def feature3(self):\n",
    "        print('feature 3 working')\n",
    "        \n",
    "    def feature4(self):\n",
    "        print('feature 4 working')\n",
    "        \n",
    "        \n",
    "class C(A,B):\n",
    "    def feature5(self):\n",
    "        print('feature 5 working')\n",
    "       \n",
    "        \n",
    "a1 = A()\n",
    "\n",
    "# a1.feature1()\n",
    "# a1.feature2()\n",
    "\n",
    "\n",
    "b1 = B()\n",
    "c1 = C()\n",
    "\n",
    "c1.feature1()   ### you can see the change in the above and this code\n",
    "c1.feature2()\n",
    "c1.feature3()\n",
    "c1.feature4()\n",
    "c1.feature5()\n",
    "print('\\n')\n",
    "print('C is a parent having 2 kids')\n"
   ]
  },
  {
   "cell_type": "markdown",
   "metadata": {},
   "source": [
    "# Constructor in inheritence in python"
   ]
  },
  {
   "cell_type": "markdown",
   "metadata": {},
   "source": [
    "   ###  Method Resolution Order"
   ]
  },
  {
   "cell_type": "code",
   "execution_count": 70,
   "metadata": {},
   "outputs": [
    {
     "name": "stdout",
     "output_type": "stream",
     "text": [
      "in A Init\n",
      "in C init\n",
      "feature 1 working\n",
      "\n",
      "\n",
      "feature 2 working\n"
     ]
    }
   ],
   "source": [
    "class A:\n",
    "    \n",
    "    def __init__(self):\n",
    "        print('in A Init')\n",
    "    def feature1(self):\n",
    "        print('feature 1 working')\n",
    "        \n",
    "    def feature2(self):\n",
    "        print('feature 2 working')\n",
    "        \n",
    "class B:   ## B is inheriting  features of A\n",
    "    \n",
    "    def __init__(self):\n",
    "        super().__init__()\n",
    "        print('in B Init')\n",
    "        \n",
    "    def feature1(self):\n",
    "        print('feature 1-B working')\n",
    "        \n",
    "    def feature2(self):\n",
    "        print('feature 2-B  working')\n",
    "  \n",
    "class C(A,B):\n",
    "    def __init__(self):\n",
    "        super().__init__()    ### Here MRO goes from left to right so it will print A first\n",
    "        print('in C init')    ### Here MRO goes from left to right so it will print A first\n",
    "        \n",
    "        \n",
    "    def feat(self):\n",
    "        super().feature2()   ### Again Here MRO goes from left to right so it will print A first\n",
    "\n",
    "a1 = C()\n",
    "a1.feature1()  \n",
    "print('\\n')\n",
    "a1.feat()"
   ]
  },
  {
   "cell_type": "markdown",
   "metadata": {},
   "source": [
    "# Introduction to polymorphosim in python\n",
    "\n",
    "### Many form (Poly morph)\n",
    "\n",
    "\n"
   ]
  },
  {
   "cell_type": "markdown",
   "metadata": {},
   "source": [
    "## Duck Typing\n",
    "## Operator Overloading\n",
    "## Method Overloading\n",
    "## Method overriding"
   ]
  },
  {
   "cell_type": "code",
   "execution_count": null,
   "metadata": {},
   "outputs": [],
   "source": []
  },
  {
   "cell_type": "markdown",
   "metadata": {},
   "source": [
    "# 1) Duck Typing"
   ]
  },
  {
   "cell_type": "code",
   "execution_count": 81,
   "metadata": {},
   "outputs": [
    {
     "name": "stdout",
     "output_type": "stream",
     "text": [
      "spell check\n",
      "convention check\n",
      "compiling\n",
      "Running\n"
     ]
    }
   ],
   "source": [
    "class PyCharm: \n",
    "    def execute(self):\n",
    "        print('Compiling')\n",
    "        print('Running')\n",
    "        \n",
    "\n",
    "        \n",
    "class myeditor:\n",
    "    def execute(self):\n",
    "        print('spell check')\n",
    "        print('convention check')\n",
    "        print('compiling')\n",
    "        print('Running')\n",
    "        \n",
    "        \n",
    "class Laptop:\n",
    "    def code(self , ide):\n",
    "        ide.execute()\n",
    "        \n",
    "        \n",
    "#ide = PyCharm()\n",
    "id = myeditor()\n",
    "\n",
    "lap1 = Laptop()\n",
    "lap1.code(id)"
   ]
  },
  {
   "cell_type": "markdown",
   "metadata": {},
   "source": [
    "## 2) Operator Overloading"
   ]
  },
  {
   "cell_type": "code",
   "execution_count": 84,
   "metadata": {},
   "outputs": [
    {
     "name": "stdout",
     "output_type": "stream",
     "text": [
      "11\n",
      "11\n"
     ]
    }
   ],
   "source": [
    "a = 5\n",
    "b = 6\n",
    "print(a+b)\n",
    "print(int.__add__(a,b))  ### __init__ is a class and add is a method"
   ]
  },
  {
   "cell_type": "code",
   "execution_count": 86,
   "metadata": {
    "scrolled": true
   },
   "outputs": [
    {
     "name": "stdout",
     "output_type": "stream",
     "text": [
      "56\n",
      "56\n"
     ]
    }
   ],
   "source": [
    "## Doing the same by changing type of a and b\n",
    "a = '5'\n",
    "b = '6'\n",
    "print(a+b)\n",
    "print(str.__add__(a,b))  ### __init__ is a class and add is a method here 5 and 6 is not added because they are string "
   ]
  },
  {
   "cell_type": "code",
   "execution_count": 98,
   "metadata": {},
   "outputs": [
    {
     "name": "stdout",
     "output_type": "stream",
     "text": [
      "s1 wins\n",
      "58 69\n",
      "58 69\n"
     ]
    }
   ],
   "source": [
    "class student:\n",
    "    \n",
    "    def __init__(self ,m1,m2):\n",
    "        self.m1 = m1\n",
    "        self.m2 = m2\n",
    "        \n",
    "    def __add__(self , other):\n",
    "        m1 = self.m1 + other.m1\n",
    "        m2 = self.m2 + other.m2\n",
    "        s3 = student(m1 , m2)\n",
    "        \n",
    "        \n",
    "    def __gt__(self , other):\n",
    "        r1 = self.m1 + self.m2\n",
    "        r2 = other.m1 + other.m2\n",
    "        if r1>r2:\n",
    "            return True\n",
    "        else:\n",
    "            return False\n",
    "        \n",
    "    def __str__(self):\n",
    "        return '{} {}'.format(self.m1 , self.m2)\n",
    "        \n",
    "    \n",
    "\n",
    "\n",
    "s1 = student(58 , 69)\n",
    "s2 = student(60, 65)\n",
    "\n",
    "\n",
    "s3 = s1 + s2\n",
    "\n",
    "if s1>s2:\n",
    "    print('s1 wins')\n",
    "else:\n",
    "    print('s2 wins')\n",
    "    \n",
    "print(s1)  #it is calling address   \n",
    "\n",
    "\n",
    "# a = 9\n",
    "# print(a.__str__())\n",
    "\n",
    "print(s1)"
   ]
  },
  {
   "cell_type": "markdown",
   "metadata": {},
   "source": [
    "# 3) overloading"
   ]
  },
  {
   "cell_type": "code",
   "execution_count": 104,
   "metadata": {},
   "outputs": [
    {
     "name": "stdout",
     "output_type": "stream",
     "text": [
      "22\n",
      "15\n",
      "6\n"
     ]
    }
   ],
   "source": [
    "class student:\n",
    "    \n",
    "    def __init__(self ,m1,m2):\n",
    "        self.m1 = m1\n",
    "        self.m2 = m2\n",
    "        \n",
    "    def sum(self ,a = None,b = None,c = None):   ### we are using none here incase we don't pass argument for a, b , c we \n",
    "        if a!=None and b!=None and c!= None:     ### by default it will use none as argument \n",
    "            s = a + b + c \n",
    "        elif a!=None and b!=None:\n",
    "            s = a + b        \n",
    "        else:\n",
    "            s = a     \n",
    "        return s\n",
    "    \n",
    "    \n",
    "s1 = student(58,69)\n",
    "\n",
    "print(s1.sum(5,8,9))\n",
    "print(s1.sum(7,8))\n",
    "print(s1.sum(6))"
   ]
  },
  {
   "cell_type": "markdown",
   "metadata": {},
   "source": [
    "# 4) overriding "
   ]
  },
  {
   "cell_type": "code",
   "execution_count": 113,
   "metadata": {},
   "outputs": [
    {
     "name": "stdout",
     "output_type": "stream",
     "text": [
      "in A show\n"
     ]
    }
   ],
   "source": [
    "class A:\n",
    "    def show(self):\n",
    "        print('in A show')\n",
    "        \n",
    "class B(A):  \n",
    "    pass\n",
    "\n",
    "a1 = B()\n",
    "a1.show()"
   ]
  },
  {
   "cell_type": "code",
   "execution_count": 115,
   "metadata": {},
   "outputs": [
    {
     "name": "stdout",
     "output_type": "stream",
     "text": [
      "in B show\n"
     ]
    }
   ],
   "source": [
    "class A:\n",
    "    def show(self):\n",
    "        print('in A show')\n",
    "        \n",
    "class B(A):\n",
    "    def show(self):\n",
    "        print('in B show')\n",
    "\n",
    "a1 = B()\n",
    "a1.show()   ### here B overrides A "
   ]
  },
  {
   "cell_type": "code",
   "execution_count": null,
   "metadata": {},
   "outputs": [],
   "source": []
  }
 ],
 "metadata": {
  "kernelspec": {
   "display_name": "Python 3",
   "language": "python",
   "name": "python3"
  },
  "language_info": {
   "codemirror_mode": {
    "name": "ipython",
    "version": 3
   },
   "file_extension": ".py",
   "mimetype": "text/x-python",
   "name": "python",
   "nbconvert_exporter": "python",
   "pygments_lexer": "ipython3",
   "version": "3.7.6"
  }
 },
 "nbformat": 4,
 "nbformat_minor": 4
}
